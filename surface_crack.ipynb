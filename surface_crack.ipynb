{
  "nbformat": 4,
  "nbformat_minor": 0,
  "metadata": {
    "colab": {
      "provenance": [],
      "gpuType": "T4"
    },
    "kernelspec": {
      "name": "python3",
      "display_name": "Python 3"
    },
    "language_info": {
      "name": "python"
    },
    "accelerator": "GPU"
  },
  "cells": [
    {
      "cell_type": "markdown",
      "source": [
        "# **Surface Crack Prediction**\n",
        "This notebook focuses on  building an image classification model to automatically detect cracks in concrete surfaces using a dataset of images. The dataset contains two classes: `Positive` (images with cracks) and `Negative` (images without cracks). In this assignment we will:\n",
        "1.  **Preprocessing:** Preparing the dataset by splitting, normalizing, and organizing images for training, validation, and testing.\n",
        "2.  **Model Construction:** Constructing a Convolutional Neural Network (CNN) to classify the images effectively.\n",
        "3.  **Performance Evaluation:** Evaluating the model's accuracy and analyzing its performance using key metrics.\n",
        "4.  **Bonus Task:**  Enhancing the dataset using augmentation techniques to improve the model's robustness and generalization."
      ],
      "metadata": {
        "id": "h-lyVl7KvIPN"
      }
    },
    {
      "cell_type": "markdown",
      "source": [
        "## **Step 1: Preprocess the Images**\n",
        "### **1.1: Download the dataset**\n",
        "We begin with retrieving the dataset from Kaggle and verify its structure. Using the `kagglehub` library, we ensure that the dataset is properly downloaded and organized. This step is crucial as all subsequent tasks depend on a clean and structured dataset. The dataset consists of two folders: `Positive` and `Negative`, each containing 20,000 images."
      ],
      "metadata": {
        "id": "0mU8csFxvrXy"
      }
    },
    {
      "cell_type": "code",
      "source": [
        "import kagglehub\n",
        "\n",
        "# Download latest version dataset version using kagglehub\n",
        "path = kagglehub.dataset_download(\"arunrk7/surface-crack-detection\")\n",
        "\n",
        "print(\"Path to dataset files:\", path)"
      ],
      "metadata": {
        "id": "QFXx8EvCvdYw",
        "colab": {
          "base_uri": "https://localhost:8080/"
        },
        "outputId": "f098a26b-16ec-457c-cb58-89fb00921eab"
      },
      "execution_count": 1,
      "outputs": [
        {
          "output_type": "stream",
          "name": "stdout",
          "text": [
            "Warning: Looks like you're using an outdated `kagglehub` version (installed: 0.3.5), please consider upgrading to the latest version (0.3.6).\n",
            "Downloading from https://www.kaggle.com/api/v1/datasets/download/arunrk7/surface-crack-detection?dataset_version_number=1...\n"
          ]
        },
        {
          "output_type": "stream",
          "name": "stderr",
          "text": [
            "100%|██████████| 233M/233M [00:03<00:00, 79.9MB/s]"
          ]
        },
        {
          "output_type": "stream",
          "name": "stdout",
          "text": [
            "Extracting files...\n"
          ]
        },
        {
          "output_type": "stream",
          "name": "stderr",
          "text": [
            "\n"
          ]
        },
        {
          "output_type": "stream",
          "name": "stdout",
          "text": [
            "Path to dataset files: /root/.cache/kagglehub/datasets/arunrk7/surface-crack-detection/versions/1\n"
          ]
        }
      ]
    },
    {
      "cell_type": "markdown",
      "source": [
        "### **1.2: Organize the dataset**\n",
        "To facilitate model training and evaluation, we split the dataset into training (70%), validation (20%), and test (10%) sets. Each split ensures the dataset has a balanced number of images for both classes."
      ],
      "metadata": {
        "id": "lR25Gga7xC3U"
      }
    },
    {
      "cell_type": "code",
      "source": [
        "import os\n",
        "import shutil\n",
        "from sklearn.model_selection import train_test_split\n",
        "\n",
        "# Define source folders\n",
        "negative_dir = os.path.join(path, \"Negative\")\n",
        "positive_dir = os.path.join(path, \"Positive\")\n",
        "\n",
        "# Define target folders\n",
        "base_dir = \"crack_data\"\n",
        "train_dir = os.path.join(base_dir, \"train\")\n",
        "val_dir = os.path.join(base_dir, \"val\")\n",
        "test_dir = os.path.join(base_dir, \"test\")\n",
        "\n",
        "# Create directories\n",
        "for directory in [train_dir, val_dir, test_dir]:\n",
        "    os.makedirs(directory, exist_ok=True)\n",
        "    os.makedirs(os.path.join(directory, \"Positive\"), exist_ok=True)\n",
        "    os.makedirs(os.path.join(directory, \"Negative\"), exist_ok=True)\n",
        "\n",
        "# Function to split data\n",
        "def split_data(source, train, val, test):\n",
        "    files = os.listdir(source)\n",
        "    train_files, test_files = train_test_split(files, test_size=0.3, random_state=42)\n",
        "    val_files, test_files = train_test_split(test_files, test_size=0.5, random_state=42)\n",
        "\n",
        "    for f in train_files:\n",
        "        shutil.copy(os.path.join(source, f), os.path.join(train, f))\n",
        "    for f in val_files:\n",
        "        shutil.copy(os.path.join(source, f), os.path.join(val, f))\n",
        "    for f in test_files:\n",
        "        shutil.copy(os.path.join(source, f), os.path.join(test, f))\n",
        "\n",
        "# Split for both classes\n",
        "split_data(negative_dir, os.path.join(train_dir, \"Negative\"), os.path.join(val_dir, \"Negative\"), os.path.join(test_dir, \"Negative\"))\n",
        "split_data(positive_dir, os.path.join(train_dir, \"Positive\"), os.path.join(val_dir, \"Positive\"), os.path.join(test_dir, \"Positive\"))\n"
      ],
      "metadata": {
        "id": "fi6zCGG50knL"
      },
      "execution_count": 2,
      "outputs": []
    },
    {
      "cell_type": "markdown",
      "source": [
        "### **1.3: Normalize the images**\n",
        "Normalizing pixel values to the range [0, 1] helps improve model training by standardizing the input values, ensuring consistency and stability during gradient updates."
      ],
      "metadata": {
        "id": "mA1cWMuKxPji"
      }
    },
    {
      "cell_type": "code",
      "source": [
        "from tensorflow.keras.preprocessing.image import ImageDataGenerator  # For image preprocessing and augmentation\n",
        "\n",
        "# Normalize pixel values using rescaling\n",
        "train_datagen = ImageDataGenerator(rescale=1.0 / 255.0)\n",
        "val_datagen = ImageDataGenerator(rescale=1.0 / 255.0)\n",
        "test_datagen = ImageDataGenerator(rescale=1.0 / 255.0)\n",
        "\n",
        "# Create data generators\n",
        "train_generator = train_datagen.flow_from_directory(\n",
        "    train_dir, target_size=(227, 227), batch_size=32, class_mode='binary'\n",
        ")\n",
        "val_generator = val_datagen.flow_from_directory(\n",
        "    val_dir, target_size=(227, 227), batch_size=32, class_mode='binary'\n",
        ")\n",
        "test_generator = test_datagen.flow_from_directory(\n",
        "    test_dir, target_size=(227, 227), batch_size=32, class_mode='binary'\n",
        ")\n"
      ],
      "metadata": {
        "colab": {
          "base_uri": "https://localhost:8080/"
        },
        "id": "jxvTCc1d06_Q",
        "outputId": "377aaaad-ae63-4bb5-8d8c-6399ea48a0fc"
      },
      "execution_count": 3,
      "outputs": [
        {
          "output_type": "stream",
          "name": "stdout",
          "text": [
            "Found 28000 images belonging to 2 classes.\n",
            "Found 6000 images belonging to 2 classes.\n",
            "Found 6000 images belonging to 2 classes.\n"
          ]
        }
      ]
    },
    {
      "cell_type": "markdown",
      "source": [
        "## **Step 2: Construct and Train a Convolutional Neural Network**\n",
        "### **2.1: Define the CNN architecture**\n",
        " The CNN is designed to extract spatial features (using convolutional layers) and classify images (using dense layers). Dropout is used to prevent overfitting."
      ],
      "metadata": {
        "id": "EPpJ4upIxYE2"
      }
    },
    {
      "cell_type": "code",
      "source": [
        "from tensorflow.keras.models import Sequential\n",
        "from tensorflow.keras.layers import Conv2D, MaxPooling2D, Flatten, Dense, Dropout\n",
        "\n",
        "model = Sequential([\n",
        "    Conv2D(32, (3, 3), activation='relu', input_shape=(227, 227, 3)),\n",
        "    MaxPooling2D((2, 2)),\n",
        "    Conv2D(64, (3, 3), activation='relu'),\n",
        "    MaxPooling2D((2, 2)),\n",
        "    Conv2D(128, (3, 3), activation='relu'),\n",
        "    MaxPooling2D((2, 2)),\n",
        "    Flatten(),\n",
        "    Dense(128, activation='relu'),\n",
        "    Dropout(0.5),\n",
        "    Dense(1, activation='sigmoid')  # Binary classification\n",
        "])\n"
      ],
      "metadata": {
        "colab": {
          "base_uri": "https://localhost:8080/"
        },
        "id": "FQ5iXEKO2Soj",
        "outputId": "c8c5ceb6-d3de-47ba-bb37-ad7442c2b1a7"
      },
      "execution_count": 4,
      "outputs": [
        {
          "output_type": "stream",
          "name": "stderr",
          "text": [
            "/usr/local/lib/python3.10/dist-packages/keras/src/layers/convolutional/base_conv.py:107: UserWarning: Do not pass an `input_shape`/`input_dim` argument to a layer. When using Sequential models, prefer using an `Input(shape)` object as the first layer in the model instead.\n",
            "  super().__init__(activity_regularizer=activity_regularizer, **kwargs)\n"
          ]
        }
      ]
    },
    {
      "cell_type": "markdown",
      "source": [
        "### **2.2: Compile the model**\n",
        " The Adam optimizer adapts the learning rate, and binary cross-entropy is used for the loss function since this is a binary classification task."
      ],
      "metadata": {
        "id": "LuJhUEJgxj_U"
      }
    },
    {
      "cell_type": "code",
      "source": [
        "model.compile(optimizer='adam', loss='binary_crossentropy', metrics=['accuracy'])\n"
      ],
      "metadata": {
        "id": "_h3AuA0z2YBR"
      },
      "execution_count": 5,
      "outputs": []
    },
    {
      "cell_type": "markdown",
      "source": [
        "### **2.3: Train the model**\n",
        " The model is trained for a fixed number of epochs using the training data and validated with the validation set to monitor performance."
      ],
      "metadata": {
        "id": "iC02yGEjxnr_"
      }
    },
    {
      "cell_type": "code",
      "source": [
        "history = model.fit(train_generator, validation_data=val_generator, epochs=10)\n"
      ],
      "metadata": {
        "colab": {
          "base_uri": "https://localhost:8080/"
        },
        "id": "K4HBsbwq2gtd",
        "outputId": "1c3f85ff-3404-4cb7-bad6-f583ff4bf9a2"
      },
      "execution_count": 6,
      "outputs": [
        {
          "output_type": "stream",
          "name": "stdout",
          "text": [
            "Epoch 1/10\n"
          ]
        },
        {
          "output_type": "stream",
          "name": "stderr",
          "text": [
            "/usr/local/lib/python3.10/dist-packages/keras/src/trainers/data_adapters/py_dataset_adapter.py:122: UserWarning: Your `PyDataset` class should call `super().__init__(**kwargs)` in its constructor. `**kwargs` can include `workers`, `use_multiprocessing`, `max_queue_size`. Do not pass these arguments to `fit()`, as they will be ignored.\n",
            "  self._warn_if_super_not_called()\n"
          ]
        },
        {
          "output_type": "stream",
          "name": "stdout",
          "text": [
            "\u001b[1m875/875\u001b[0m \u001b[32m━━━━━━━━━━━━━━━━━━━━\u001b[0m\u001b[37m\u001b[0m \u001b[1m70s\u001b[0m 70ms/step - accuracy: 0.9015 - loss: 0.2775 - val_accuracy: 0.9812 - val_loss: 0.0535\n",
            "Epoch 2/10\n",
            "\u001b[1m875/875\u001b[0m \u001b[32m━━━━━━━━━━━━━━━━━━━━\u001b[0m\u001b[37m\u001b[0m \u001b[1m56s\u001b[0m 64ms/step - accuracy: 0.9814 - loss: 0.0667 - val_accuracy: 0.9892 - val_loss: 0.0305\n",
            "Epoch 3/10\n",
            "\u001b[1m875/875\u001b[0m \u001b[32m━━━━━━━━━━━━━━━━━━━━\u001b[0m\u001b[37m\u001b[0m \u001b[1m54s\u001b[0m 61ms/step - accuracy: 0.9883 - loss: 0.0403 - val_accuracy: 0.9898 - val_loss: 0.0357\n",
            "Epoch 4/10\n",
            "\u001b[1m875/875\u001b[0m \u001b[32m━━━━━━━━━━━━━━━━━━━━\u001b[0m\u001b[37m\u001b[0m \u001b[1m54s\u001b[0m 62ms/step - accuracy: 0.9902 - loss: 0.0381 - val_accuracy: 0.9882 - val_loss: 0.0361\n",
            "Epoch 5/10\n",
            "\u001b[1m875/875\u001b[0m \u001b[32m━━━━━━━━━━━━━━━━━━━━\u001b[0m\u001b[37m\u001b[0m \u001b[1m81s\u001b[0m 61ms/step - accuracy: 0.9916 - loss: 0.0282 - val_accuracy: 0.9935 - val_loss: 0.0182\n",
            "Epoch 6/10\n",
            "\u001b[1m875/875\u001b[0m \u001b[32m━━━━━━━━━━━━━━━━━━━━\u001b[0m\u001b[37m\u001b[0m \u001b[1m82s\u001b[0m 61ms/step - accuracy: 0.9923 - loss: 0.0305 - val_accuracy: 0.9938 - val_loss: 0.0267\n",
            "Epoch 7/10\n",
            "\u001b[1m875/875\u001b[0m \u001b[32m━━━━━━━━━━━━━━━━━━━━\u001b[0m\u001b[37m\u001b[0m \u001b[1m85s\u001b[0m 65ms/step - accuracy: 0.9937 - loss: 0.0240 - val_accuracy: 0.9927 - val_loss: 0.0249\n",
            "Epoch 8/10\n",
            "\u001b[1m875/875\u001b[0m \u001b[32m━━━━━━━━━━━━━━━━━━━━\u001b[0m\u001b[37m\u001b[0m \u001b[1m82s\u001b[0m 65ms/step - accuracy: 0.9923 - loss: 0.0270 - val_accuracy: 0.9918 - val_loss: 0.0250\n",
            "Epoch 9/10\n",
            "\u001b[1m875/875\u001b[0m \u001b[32m━━━━━━━━━━━━━━━━━━━━\u001b[0m\u001b[37m\u001b[0m \u001b[1m78s\u001b[0m 61ms/step - accuracy: 0.9946 - loss: 0.0214 - val_accuracy: 0.9928 - val_loss: 0.0270\n",
            "Epoch 10/10\n",
            "\u001b[1m875/875\u001b[0m \u001b[32m━━━━━━━━━━━━━━━━━━━━\u001b[0m\u001b[37m\u001b[0m \u001b[1m83s\u001b[0m 62ms/step - accuracy: 0.9936 - loss: 0.0216 - val_accuracy: 0.9905 - val_loss: 0.0308\n"
          ]
        }
      ]
    },
    {
      "cell_type": "markdown",
      "source": [
        "## **Step 3: Calculate Performance Measures and Analyze Results**\n",
        "### **3.1: Evaluate the model on the test set**\n",
        "Testing the model on unseen data ensures that it generalizes well to new inputs."
      ],
      "metadata": {
        "id": "qqUELki2xqtY"
      }
    },
    {
      "cell_type": "code",
      "source": [
        "test_loss, test_acc = model.evaluate(test_generator)\n",
        "print(f\"Test Accuracy: {test_acc:.2f}\")\n"
      ],
      "metadata": {
        "id": "kD4A6sJJ2l9O",
        "colab": {
          "base_uri": "https://localhost:8080/"
        },
        "outputId": "c659a22b-c583-49b8-9764-4ee1a23aca8d"
      },
      "execution_count": 8,
      "outputs": [
        {
          "output_type": "stream",
          "name": "stdout",
          "text": [
            "\u001b[1m188/188\u001b[0m \u001b[32m━━━━━━━━━━━━━━━━━━━━\u001b[0m\u001b[37m\u001b[0m \u001b[1m7s\u001b[0m 37ms/step - accuracy: 0.9880 - loss: 0.0523\n",
            "Test Accuracy: 0.99\n"
          ]
        }
      ]
    },
    {
      "cell_type": "markdown",
      "source": [
        "### **3.2: Visualize training performance**\n",
        "Plotting training and validation accuracy and loss helps identify trends, such as overfitting or underfitting."
      ],
      "metadata": {
        "id": "krMFOlPwxy0Y"
      }
    },
    {
      "cell_type": "code",
      "source": [
        "import matplotlib.pyplot as plt\n",
        "\n",
        "plt.plot(history.history['accuracy'], label='Train Accuracy')\n",
        "plt.plot(history.history['val_accuracy'], label='Validation Accuracy')\n",
        "plt.xlabel('Epochs')\n",
        "plt.ylabel('Accuracy')\n",
        "plt.legend()\n",
        "plt.show()\n"
      ],
      "metadata": {
        "colab": {
          "base_uri": "https://localhost:8080/",
          "height": 449
        },
        "id": "wNZd_Kap2uaL",
        "outputId": "48f12bf6-1372-44f5-a5ae-eac73a3f4a53"
      },
      "execution_count": 9,
      "outputs": [
        {
          "output_type": "display_data",
          "data": {
            "text/plain": [
              "<Figure size 640x480 with 1 Axes>"
            ],
            "image/png": "[encoded data removed]"
          },
          "metadata": {}
        }
      ]
    },
    {
      "cell_type": "markdown",
      "source": [
        "### **3.3: Interpret results**"
      ],
      "metadata": {
        "id": "4Mt-aEZMx1tG"
      }
    },
    {
      "cell_type": "markdown",
      "source": [
        "## **Step 4 (Bonus Task): Use Data Augmentation to Enhance Performance**\n",
        "### **4.1: Augment the Data**\n",
        "Augmenting data improves generalization by creating new samples using transformations like rotation, flipping, and scaling.*italicized text*"
      ],
      "metadata": {
        "id": "byyo1wBTyC53"
      }
    },
    {
      "cell_type": "code",
      "source": [
        "aug_train_gen = ImageDataGenerator(\n",
        "    rescale=1.0 / 255,\n",
        "    rotation_range=20,\n",
        "    width_shift_range=0.2,\n",
        "    height_shift_range=0.2,\n",
        "    shear_range=0.2,\n",
        "    zoom_range=0.2,\n",
        "    horizontal_flip=True\n",
        ")\n",
        "\n",
        "aug_train_data = aug_train_gen.flow_from_directory(train_dir, target_size=(227, 227), batch_size=32, class_mode='binary')\n"
      ],
      "metadata": {
        "colab": {
          "base_uri": "https://localhost:8080/"
        },
        "id": "B-Id4yyywMCc",
        "outputId": "1e8684bf-8064-4839-ede8-760397954563"
      },
      "execution_count": 10,
      "outputs": [
        {
          "output_type": "stream",
          "name": "stdout",
          "text": [
            "Found 28000 images belonging to 2 classes.\n"
          ]
        }
      ]
    },
    {
      "cell_type": "markdown",
      "source": [
        "### **4.2: Retrain with Augmented Data**\n",
        "Retraining the model with augmented data tests the network's robustness and improves its performance."
      ],
      "metadata": {
        "id": "miFwFp9IyG9R"
      }
    },
    {
      "cell_type": "code",
      "source": [
        "history_aug = model.fit(aug_train_data, validation_data=val_generator, epochs=10)\n"
      ],
      "metadata": {
        "colab": {
          "base_uri": "https://localhost:8080/"
        },
        "id": "Wev4NLyrwZCm",
        "outputId": "78b414ef-486e-4df3-906f-6600925920e8"
      },
      "execution_count": 12,
      "outputs": [
        {
          "output_type": "stream",
          "name": "stdout",
          "text": [
            "Epoch 1/10\n",
            "\u001b[1m875/875\u001b[0m \u001b[32m━━━━━━━━━━━━━━━━━━━━\u001b[0m\u001b[37m\u001b[0m \u001b[1m339s\u001b[0m 384ms/step - accuracy: 0.9845 - loss: 0.0551 - val_accuracy: 0.9937 - val_loss: 0.0188\n",
            "Epoch 2/10\n",
            "\u001b[1m875/875\u001b[0m \u001b[32m━━━━━━━━━━━━━━━━━━━━\u001b[0m\u001b[37m\u001b[0m \u001b[1m340s\u001b[0m 385ms/step - accuracy: 0.9863 - loss: 0.0524 - val_accuracy: 0.9933 - val_loss: 0.0222\n",
            "Epoch 3/10\n",
            "\u001b[1m875/875\u001b[0m \u001b[32m━━━━━━━━━━━━━━━━━━━━\u001b[0m\u001b[37m\u001b[0m \u001b[1m381s\u001b[0m 385ms/step - accuracy: 0.9873 - loss: 0.0427 - val_accuracy: 0.9933 - val_loss: 0.0197\n",
            "Epoch 4/10\n",
            "\u001b[1m875/875\u001b[0m \u001b[32m━━━━━━━━━━━━━━━━━━━━\u001b[0m\u001b[37m\u001b[0m \u001b[1m344s\u001b[0m 390ms/step - accuracy: 0.9888 - loss: 0.0395 - val_accuracy: 0.9935 - val_loss: 0.0185\n",
            "Epoch 5/10\n",
            "\u001b[1m875/875\u001b[0m \u001b[32m━━━━━━━━━━━━━━━━━━━━\u001b[0m\u001b[37m\u001b[0m \u001b[1m341s\u001b[0m 388ms/step - accuracy: 0.9882 - loss: 0.0397 - val_accuracy: 0.9913 - val_loss: 0.0249\n",
            "Epoch 6/10\n",
            "\u001b[1m875/875\u001b[0m \u001b[32m━━━━━━━━━━━━━━━━━━━━\u001b[0m\u001b[37m\u001b[0m \u001b[1m337s\u001b[0m 383ms/step - accuracy: 0.9898 - loss: 0.0364 - val_accuracy: 0.9943 - val_loss: 0.0183\n",
            "Epoch 7/10\n",
            "\u001b[1m875/875\u001b[0m \u001b[32m━━━━━━━━━━━━━━━━━━━━\u001b[0m\u001b[37m\u001b[0m \u001b[1m338s\u001b[0m 384ms/step - accuracy: 0.9882 - loss: 0.0444 - val_accuracy: 0.9942 - val_loss: 0.0197\n",
            "Epoch 8/10\n",
            "\u001b[1m875/875\u001b[0m \u001b[32m━━━━━━━━━━━━━━━━━━━━\u001b[0m\u001b[37m\u001b[0m \u001b[1m339s\u001b[0m 384ms/step - accuracy: 0.9906 - loss: 0.0307 - val_accuracy: 0.9945 - val_loss: 0.0170\n",
            "Epoch 9/10\n",
            "\u001b[1m875/875\u001b[0m \u001b[32m━━━━━━━━━━━━━━━━━━━━\u001b[0m\u001b[37m\u001b[0m \u001b[1m385s\u001b[0m 388ms/step - accuracy: 0.9915 - loss: 0.0335 - val_accuracy: 0.9955 - val_loss: 0.0170\n",
            "Epoch 10/10\n",
            "\u001b[1m875/875\u001b[0m \u001b[32m━━━━━━━━━━━━━━━━━━━━\u001b[0m\u001b[37m\u001b[0m \u001b[1m338s\u001b[0m 384ms/step - accuracy: 0.9888 - loss: 0.0355 - val_accuracy: 0.9958 - val_loss: 0.0141\n"
          ]
        }
      ]
    }
  ]
}
